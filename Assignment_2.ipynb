{
 "cells": [
  {
   "cell_type": "code",
   "execution_count": 58,
   "metadata": {},
   "outputs": [],
   "source": [
    "import time\n",
    "import numpy as np\n",
    "import random\n",
    "import pandas as pd\n",
    "import networkx as nx\n",
    "import requests"
   ]
  },
  {
   "cell_type": "code",
   "execution_count": 59,
   "metadata": {},
   "outputs": [
    {
     "data": {
      "text/plain": [
       "200"
      ]
     },
     "execution_count": 59,
     "metadata": {},
     "output_type": "execute_result"
    }
   ],
   "source": [
    "resp = requests.get(\"https://api.aviationapi.com/v1/preferred-routes\")\n",
    "\n",
    "resp.status_code"
   ]
  },
  {
   "cell_type": "code",
   "execution_count": 60,
   "metadata": {},
   "outputs": [],
   "source": [
    "route = resp.json()"
   ]
  },
  {
   "cell_type": "code",
   "execution_count": 61,
   "metadata": {},
   "outputs": [
    {
     "data": {
      "text/html": [
       "<div>\n",
       "<style scoped>\n",
       "    .dataframe tbody tr th:only-of-type {\n",
       "        vertical-align: middle;\n",
       "    }\n",
       "\n",
       "    .dataframe tbody tr th {\n",
       "        vertical-align: top;\n",
       "    }\n",
       "\n",
       "    .dataframe thead th {\n",
       "        text-align: right;\n",
       "    }\n",
       "</style>\n",
       "<table border=\"1\" class=\"dataframe\">\n",
       "  <thead>\n",
       "    <tr style=\"text-align: right;\">\n",
       "      <th></th>\n",
       "      <th>origin</th>\n",
       "      <th>route</th>\n",
       "      <th>destination</th>\n",
       "      <th>hours1</th>\n",
       "      <th>hours2</th>\n",
       "      <th>hours3</th>\n",
       "      <th>type</th>\n",
       "      <th>area</th>\n",
       "      <th>altitude</th>\n",
       "      <th>aircraft</th>\n",
       "      <th>flow</th>\n",
       "      <th>seq</th>\n",
       "      <th>d_artcc</th>\n",
       "      <th>a_artcc</th>\n",
       "    </tr>\n",
       "  </thead>\n",
       "  <tbody>\n",
       "    <tr>\n",
       "      <th>0</th>\n",
       "      <td>ABE</td>\n",
       "      <td>ABE FJC ARD CYN ACY</td>\n",
       "      <td>ACY</td>\n",
       "      <td>None</td>\n",
       "      <td>None</td>\n",
       "      <td>None</td>\n",
       "      <td>TEC</td>\n",
       "      <td>None</td>\n",
       "      <td>5000</td>\n",
       "      <td>None</td>\n",
       "      <td>None</td>\n",
       "      <td>1</td>\n",
       "      <td>ZNY</td>\n",
       "      <td>ZDC</td>\n",
       "    </tr>\n",
       "    <tr>\n",
       "      <th>1</th>\n",
       "      <td>ABE</td>\n",
       "      <td>ABE FJC LAAYK ALB</td>\n",
       "      <td>ALB</td>\n",
       "      <td>None</td>\n",
       "      <td>None</td>\n",
       "      <td>None</td>\n",
       "      <td>TEC</td>\n",
       "      <td>None</td>\n",
       "      <td>7000</td>\n",
       "      <td>None</td>\n",
       "      <td>None</td>\n",
       "      <td>1</td>\n",
       "      <td>ZNY</td>\n",
       "      <td>ZBW</td>\n",
       "    </tr>\n",
       "    <tr>\n",
       "      <th>2</th>\n",
       "      <td>ABE</td>\n",
       "      <td>ABE FJC LVZ AVP</td>\n",
       "      <td>AVP</td>\n",
       "      <td>None</td>\n",
       "      <td>None</td>\n",
       "      <td>None</td>\n",
       "      <td>TEC</td>\n",
       "      <td>None</td>\n",
       "      <td>7000</td>\n",
       "      <td>None</td>\n",
       "      <td>None</td>\n",
       "      <td>2</td>\n",
       "      <td>ZNY</td>\n",
       "      <td>ZNY</td>\n",
       "    </tr>\n",
       "    <tr>\n",
       "      <th>3</th>\n",
       "      <td>ABE</td>\n",
       "      <td>ABE FJC V162 HUO IGN PWL PWL111 BRISS BDL</td>\n",
       "      <td>BDL</td>\n",
       "      <td>None</td>\n",
       "      <td>None</td>\n",
       "      <td>None</td>\n",
       "      <td>TEC</td>\n",
       "      <td>None</td>\n",
       "      <td>5000</td>\n",
       "      <td>None</td>\n",
       "      <td>None</td>\n",
       "      <td>1</td>\n",
       "      <td>ZNY</td>\n",
       "      <td>ZBW</td>\n",
       "    </tr>\n",
       "    <tr>\n",
       "      <th>4</th>\n",
       "      <td>ABE</td>\n",
       "      <td>ABE ETX V39 LRP V499 BAL BWI</td>\n",
       "      <td>BWI</td>\n",
       "      <td>None</td>\n",
       "      <td>None</td>\n",
       "      <td>None</td>\n",
       "      <td>TEC</td>\n",
       "      <td>None</td>\n",
       "      <td>8000</td>\n",
       "      <td>None</td>\n",
       "      <td>None</td>\n",
       "      <td>3</td>\n",
       "      <td>ZNY</td>\n",
       "      <td>ZDC</td>\n",
       "    </tr>\n",
       "  </tbody>\n",
       "</table>\n",
       "</div>"
      ],
      "text/plain": [
       "  origin                                      route destination hours1 hours2  \\\n",
       "0    ABE                        ABE FJC ARD CYN ACY         ACY   None   None   \n",
       "1    ABE                          ABE FJC LAAYK ALB         ALB   None   None   \n",
       "2    ABE                            ABE FJC LVZ AVP         AVP   None   None   \n",
       "3    ABE  ABE FJC V162 HUO IGN PWL PWL111 BRISS BDL         BDL   None   None   \n",
       "4    ABE               ABE ETX V39 LRP V499 BAL BWI         BWI   None   None   \n",
       "\n",
       "  hours3 type  area altitude aircraft  flow  seq d_artcc a_artcc  \n",
       "0   None  TEC  None     5000     None  None    1     ZNY     ZDC  \n",
       "1   None  TEC  None     7000     None  None    1     ZNY     ZBW  \n",
       "2   None  TEC  None     7000     None  None    2     ZNY     ZNY  \n",
       "3   None  TEC  None     5000     None  None    1     ZNY     ZBW  \n",
       "4   None  TEC  None     8000     None  None    3     ZNY     ZDC  "
      ]
     },
     "execution_count": 61,
     "metadata": {},
     "output_type": "execute_result"
    }
   ],
   "source": [
    "route_df = pd.DataFrame(route)\n",
    "route_df.head()"
   ]
  },
  {
   "cell_type": "code",
   "execution_count": 62,
   "metadata": {},
   "outputs": [],
   "source": [
    "route_df = route_df[['origin', 'destination']]"
   ]
  },
  {
   "cell_type": "code",
   "execution_count": 63,
   "metadata": {},
   "outputs": [
    {
     "data": {
      "text/html": [
       "<div>\n",
       "<style scoped>\n",
       "    .dataframe tbody tr th:only-of-type {\n",
       "        vertical-align: middle;\n",
       "    }\n",
       "\n",
       "    .dataframe tbody tr th {\n",
       "        vertical-align: top;\n",
       "    }\n",
       "\n",
       "    .dataframe thead th {\n",
       "        text-align: right;\n",
       "    }\n",
       "</style>\n",
       "<table border=\"1\" class=\"dataframe\">\n",
       "  <thead>\n",
       "    <tr style=\"text-align: right;\">\n",
       "      <th></th>\n",
       "      <th>origin</th>\n",
       "      <th>destination</th>\n",
       "    </tr>\n",
       "  </thead>\n",
       "  <tbody>\n",
       "    <tr>\n",
       "      <th>637</th>\n",
       "      <td>BDR</td>\n",
       "      <td>ABE</td>\n",
       "    </tr>\n",
       "    <tr>\n",
       "      <th>638</th>\n",
       "      <td>BDR</td>\n",
       "      <td>ACK</td>\n",
       "    </tr>\n",
       "    <tr>\n",
       "      <th>639</th>\n",
       "      <td>BDR</td>\n",
       "      <td>ACY</td>\n",
       "    </tr>\n",
       "    <tr>\n",
       "      <th>640</th>\n",
       "      <td>BDR</td>\n",
       "      <td>ALB</td>\n",
       "    </tr>\n",
       "    <tr>\n",
       "      <th>641</th>\n",
       "      <td>BDR</td>\n",
       "      <td>ALB</td>\n",
       "    </tr>\n",
       "    <tr>\n",
       "      <th>...</th>\n",
       "      <td>...</td>\n",
       "      <td>...</td>\n",
       "    </tr>\n",
       "    <tr>\n",
       "      <th>3389</th>\n",
       "      <td>HOU</td>\n",
       "      <td>TPA</td>\n",
       "    </tr>\n",
       "    <tr>\n",
       "      <th>3390</th>\n",
       "      <td>HOU</td>\n",
       "      <td>TUL</td>\n",
       "    </tr>\n",
       "    <tr>\n",
       "      <th>3391</th>\n",
       "      <td>HOU</td>\n",
       "      <td>TUS</td>\n",
       "    </tr>\n",
       "    <tr>\n",
       "      <th>3392</th>\n",
       "      <td>HOU</td>\n",
       "      <td>TYS</td>\n",
       "    </tr>\n",
       "    <tr>\n",
       "      <th>3393</th>\n",
       "      <td>HOU</td>\n",
       "      <td>XNA</td>\n",
       "    </tr>\n",
       "  </tbody>\n",
       "</table>\n",
       "<p>522 rows × 2 columns</p>\n",
       "</div>"
      ],
      "text/plain": [
       "     origin destination\n",
       "637     BDR         ABE\n",
       "638     BDR         ACK\n",
       "639     BDR         ACY\n",
       "640     BDR         ALB\n",
       "641     BDR         ALB\n",
       "...     ...         ...\n",
       "3389    HOU         TPA\n",
       "3390    HOU         TUL\n",
       "3391    HOU         TUS\n",
       "3392    HOU         TYS\n",
       "3393    HOU         XNA\n",
       "\n",
       "[522 rows x 2 columns]"
      ]
     },
     "execution_count": 63,
     "metadata": {},
     "output_type": "execute_result"
    }
   ],
   "source": [
    "rbwi_df = (route_df.loc[route_df['origin'] == 'BWI'])\n",
    "rbdr_df = (route_df.loc[route_df['origin'] == 'BDR'])\n",
    "rlax_df = (route_df.loc[route_df['origin'] == 'LAX'])\n",
    "rhou_df = (route_df.loc[route_df['origin'] == 'HOU'])\n",
    "frame = [rbdr_df, rbwi_df, rlax_df, rhou_df]\n",
    "rthree_df = pd.concat(frame)\n",
    "rthree_df"
   ]
  },
  {
   "cell_type": "code",
   "execution_count": 64,
   "metadata": {},
   "outputs": [],
   "source": [
    "graph1 = nx.Graph()"
   ]
  },
  {
   "cell_type": "code",
   "execution_count": 65,
   "metadata": {},
   "outputs": [],
   "source": [
    "graph1 = nx.from_pandas_edgelist(route_df, 'origin', 'destination')"
   ]
  },
  {
   "cell_type": "code",
   "execution_count": 66,
   "metadata": {},
   "outputs": [
    {
     "name": "stdout",
     "output_type": "stream",
     "text": [
      "Nodes: 583\n",
      "Edges: 4769\n"
     ]
    }
   ],
   "source": [
    "print(\"Nodes:\", len(graph1.nodes))\n",
    "print(\"Edges:\", len(graph1.edges))"
   ]
  },
  {
   "cell_type": "code",
   "execution_count": 67,
   "metadata": {},
   "outputs": [],
   "source": [
    "nx.write_graphml(graph1, \"airportsdest.graphml\")"
   ]
  },
  {
   "cell_type": "code",
   "execution_count": 68,
   "metadata": {},
   "outputs": [],
   "source": [
    "graph2 = nx.Graph()"
   ]
  },
  {
   "cell_type": "code",
   "execution_count": 69,
   "metadata": {},
   "outputs": [],
   "source": [
    "graph2 = nx.from_pandas_edgelist(rthree_df, 'origin', 'destination')"
   ]
  },
  {
   "cell_type": "code",
   "execution_count": 70,
   "metadata": {},
   "outputs": [
    {
     "name": "stdout",
     "output_type": "stream",
     "text": [
      "Nodes: 191\n",
      "Edges: 270\n"
     ]
    }
   ],
   "source": [
    "print(\"Nodes:\", len(graph2.nodes))\n",
    "print(\"Edges:\", len(graph2.edges))"
   ]
  },
  {
   "cell_type": "code",
   "execution_count": 71,
   "metadata": {},
   "outputs": [],
   "source": [
    "nx.write_graphml(graph2, \"airportsdest2.graphml\")"
   ]
  }
 ],
 "metadata": {
  "kernelspec": {
   "display_name": "Python 3",
   "language": "python",
   "name": "python3"
  },
  "language_info": {
   "codemirror_mode": {
    "name": "ipython",
    "version": 3
   },
   "file_extension": ".py",
   "mimetype": "text/x-python",
   "name": "python",
   "nbconvert_exporter": "python",
   "pygments_lexer": "ipython3",
   "version": "3.10.10"
  },
  "orig_nbformat": 4,
  "vscode": {
   "interpreter": {
    "hash": "7e1f3683dc06b63936dcd5d8f5c711904bea7c3dda3fc3105d383118c7c366a9"
   }
  }
 },
 "nbformat": 4,
 "nbformat_minor": 2
}
